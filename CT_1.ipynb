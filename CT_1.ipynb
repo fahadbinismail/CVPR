{
  "nbformat": 4,
  "nbformat_minor": 0,
  "metadata": {
    "colab": {
      "name": "final_assignment_1.ipynb",
      "provenance": [],
      "collapsed_sections": []
    },
    "kernelspec": {
      "name": "python3",
      "display_name": "Python 3"
    },
    "language_info": {
      "name": "python"
    },
    "accelerator": "GPU"
  },
  "cells": [
    {
      "cell_type": "code",
      "metadata": {
        "id": "cRvu4nGC5tGt"
      },
      "source": [
        "import tensorflow as tf\n",
        "from tensorflow import keras\n",
        "from tensorflow.keras import layers\n",
        "from tensorflow.keras.datasets import cifar10\n",
        "from tensorflow.keras.callbacks import EarlyStopping\n",
        "\n",
        "import os\n",
        "import numpy as np\n",
        "import matplotlib.pyplot as plt\n",
        "\n",
        "# ignore information messgaes from tensorflow, but we will receieve error messages\n",
        "os.environ['TFF_CPP_MIN_LOG_LEVEL'] = '2'\n",
        "\n",
        "%matplotlib inline"
      ],
      "execution_count": null,
      "outputs": []
    },
    {
      "cell_type": "code",
      "metadata": {
        "colab": {
          "base_uri": "https://localhost:8080/"
        },
        "id": "PJzwqSU65x7z",
        "outputId": "09d93299-24ca-4406-e07d-063ae1a5918e"
      },
      "source": [
        "(X_train, Y_train), (X_test, Y_test) = cifar10.load_data()\n",
        "print(X_train.shape, Y_train.shape)\n",
        "print(X_test.shape, Y_test.shape)"
      ],
      "execution_count": null,
      "outputs": [
        {
          "output_type": "stream",
          "name": "stdout",
          "text": [
            "Downloading data from https://www.cs.toronto.edu/~kriz/cifar-10-python.tar.gz\n",
            "170500096/170498071 [==============================] - 11s 0us/step\n",
            "170508288/170498071 [==============================] - 11s 0us/step\n",
            "(50000, 32, 32, 3) (50000, 1)\n",
            "(10000, 32, 32, 3) (10000, 1)\n"
          ]
        }
      ]
    },
    {
      "cell_type": "code",
      "metadata": {
        "id": "zHXm80-T54c0"
      },
      "source": [
        "class_names = ['airplane', 'automobile', 'bird', 'cat', 'deer', 'dog', 'frog', 'horse', 'ship', 'truck']"
      ],
      "execution_count": null,
      "outputs": []
    },
    {
      "cell_type": "code",
      "metadata": {
        "colab": {
          "base_uri": "https://localhost:8080/"
        },
        "id": "vmtJM8xC57QG",
        "outputId": "2b8577b6-a986-4c76-fb52-561f7de3d6e9"
      },
      "source": [
        "\n",
        "mean_rgb = np.mean(X_train, axis=(0,1,2))\n",
        "print(mean_rgb)"
      ],
      "execution_count": null,
      "outputs": [
        {
          "output_type": "stream",
          "name": "stdout",
          "text": [
            "[125.30691805 122.95039414 113.86538318]\n"
          ]
        }
      ]
    },
    {
      "cell_type": "code",
      "metadata": {
        "id": "PBoBkhNH5-bM"
      },
      "source": [
        "X_train_norm = np.empty_like(X_train)\n",
        "X_test_norm = np.empty_like(X_test)"
      ],
      "execution_count": null,
      "outputs": []
    },
    {
      "cell_type": "code",
      "metadata": {
        "id": "vrgy3L636Ay2"
      },
      "source": [
        "for i in range(len(X_train)):\n",
        "    for c in range(3):\n",
        "        if(c==1):\n",
        "            X_train_norm[i,:, :, c] = X_train[i,:, :, c] - mean_rgb[0]\n",
        "        elif(c==2):\n",
        "            X_train_norm[i,:, :, c] = X_train[i,:, :, c] - mean_rgb[1]\n",
        "        else:\n",
        "            X_train_norm[i,:, :, c] = X_train[i,:, :, c] - mean_rgb[2]\n",
        "            \n",
        "for i in range(len(X_test)):\n",
        "    for c in range(3):\n",
        "        if(c==1):\n",
        "            X_test_norm[i,:, :, c] = X_test[i,:, :, c] - mean_rgb[0]\n",
        "        elif(c==2):\n",
        "            X_test_norm[i,:, :, c] = X_test[i,:, :, c] - mean_rgb[1]\n",
        "        else:\n",
        "            X_test_norm[i,:, :, c] = X_test[i,:, :, c] - mean_rgb[2]"
      ],
      "execution_count": null,
      "outputs": []
    },
    {
      "cell_type": "code",
      "metadata": {
        "colab": {
          "base_uri": "https://localhost:8080/",
          "height": 729
        },
        "id": "Em6THDnq6Ey2",
        "outputId": "51c81060-7218-42e2-953b-5ada3250b25b"
      },
      "source": [
        "c = 0\n",
        "plt.figure(figsize=(5,10))\n",
        "for i in range(5):\n",
        "    plt.subplot(5,2,c+1)\n",
        "    plt.imshow(X_train[i].astype('uint8'))\n",
        "    plt.xticks([])\n",
        "    plt.yticks([])\n",
        "    \n",
        "    plt.subplot(5,2,c+2)\n",
        "    plt.imshow(X_train_norm[i].astype('uint8'))\n",
        "    plt.xticks([])\n",
        "    plt.yticks([])\n",
        "\n",
        "    c += 2\n",
        "    \n",
        "plt.tight_layout()\n",
        "plt.show()"
      ],
      "execution_count": null,
      "outputs": [
        {
          "output_type": "display_data",
          "data": {
            "image/png": "[encoded data removed]",
            "text/plain": [
              "<Figure size 360x720 with 10 Axes>"
            ]
          },
          "metadata": {}
        }
      ]
    },
    {
      "cell_type": "code",
      "metadata": {
        "colab": {
          "base_uri": "https://localhost:8080/"
        },
        "id": "THfOf2be6SmU",
        "outputId": "f9dc92c1-edf9-4be0-e075-10d3398c892f"
      },
      "source": [
        "model = keras.Sequential([\n",
        "    ## input layer\n",
        "    keras.Input(shape=X_train_norm.shape[1:]),\n",
        "    \n",
        "    layers.Conv2D(filters=64, kernel_size=(3,3), strides=(1,1), padding='same'),\n",
        "    layers.Activation('relu'),\n",
        "    layers.Conv2D(filters=64, kernel_size=(3,3), strides=(1,1), padding='same'),\n",
        "    layers.Activation('relu'),\n",
        "    layers.MaxPooling2D(pool_size=(2,2), strides=(2,2), padding='valid'),\n",
        "    \n",
        "    \n",
        "    layers.Conv2D(filters=128, kernel_size=(3,3), strides=(1,1), padding='same'),\n",
        "    layers.Activation('relu'),\n",
        "    layers.Conv2D(filters=128, kernel_size=(3,3), strides=(1,1), padding='same'),\n",
        "    layers.Activation('relu'),\n",
        "    layers.MaxPooling2D(pool_size=(2,2), strides=(2,2), padding='valid'),\n",
        "    \n",
        "    layers.Conv2D(filters=256, kernel_size=(3,3), strides=(1,1), padding='same'),\n",
        "    layers.Activation('relu'),\n",
        "    layers.Conv2D(filters=256, kernel_size=(3,3), strides=(1,1), padding='same'),\n",
        "    layers.Activation('relu'),\n",
        "    layers.Conv2D(filters=256, kernel_size=(3,3), strides=(1,1), padding='same'),\n",
        "    layers.Activation('relu'),\n",
        "    layers.MaxPooling2D(pool_size=(2,2), strides=(2,2), padding='valid'),\n",
        "    \n",
        "    \n",
        "    layers.Conv2D(filters=256, kernel_size=(3,3), strides=(1,1), padding='same'),\n",
        "    layers.Activation('relu'),\n",
        "    layers.Conv2D(filters=256, kernel_size=(3,3), strides=(1,1), padding='same'),\n",
        "    layers.Activation('relu'),\n",
        "    layers.Conv2D(filters=256, kernel_size=(3,3), strides=(1,1), padding='same'),\n",
        "    layers.Activation('relu'),\n",
        "    layers.MaxPooling2D(pool_size=(2,2), strides=(2,2), padding='valid'),\n",
        "    \n",
        "    \n",
        "    layers.Flatten(),\n",
        "    \n",
        "    layers.Dense(units=4096),\n",
        "    layers.Activation('relu'),\n",
        "    layers.Dropout(0.5),\n",
        "    \n",
        "    layers.Dense(units=4096),\n",
        "    layers.Activation('relu'),\n",
        "    layers.Dropout(0.5),\n",
        "\n",
        "    layers.Dense(10),\n",
        "    layers.Activation('softmax')\n",
        "])\n",
        "\n",
        "model.summary()"
      ],
      "execution_count": null,
      "outputs": [
        {
          "output_type": "stream",
          "name": "stdout",
          "text": [
            "Model: \"sequential\"\n",
            "_________________________________________________________________\n",
            "Layer (type)                 Output Shape              Param #   \n",
            "=================================================================\n",
            "conv2d (Conv2D)              (None, 32, 32, 64)        1792      \n",
            "_________________________________________________________________\n",
            "activation (Activation)      (None, 32, 32, 64)        0         \n",
            "_________________________________________________________________\n",
            "conv2d_1 (Conv2D)            (None, 32, 32, 64)        36928     \n",
            "_________________________________________________________________\n",
            "activation_1 (Activation)    (None, 32, 32, 64)        0         \n",
            "_________________________________________________________________\n",
            "max_pooling2d (MaxPooling2D) (None, 16, 16, 64)        0         \n",
            "_________________________________________________________________\n",
            "conv2d_2 (Conv2D)            (None, 16, 16, 128)       73856     \n",
            "_________________________________________________________________\n",
            "activation_2 (Activation)    (None, 16, 16, 128)       0         \n",
            "_________________________________________________________________\n",
            "conv2d_3 (Conv2D)            (None, 16, 16, 128)       147584    \n",
            "_________________________________________________________________\n",
            "activation_3 (Activation)    (None, 16, 16, 128)       0         \n",
            "_________________________________________________________________\n",
            "max_pooling2d_1 (MaxPooling2 (None, 8, 8, 128)         0         \n",
            "_________________________________________________________________\n",
            "conv2d_4 (Conv2D)            (None, 8, 8, 256)         295168    \n",
            "_________________________________________________________________\n",
            "activation_4 (Activation)    (None, 8, 8, 256)         0         \n",
            "_________________________________________________________________\n",
            "conv2d_5 (Conv2D)            (None, 8, 8, 256)         590080    \n",
            "_________________________________________________________________\n",
            "activation_5 (Activation)    (None, 8, 8, 256)         0         \n",
            "_________________________________________________________________\n",
            "conv2d_6 (Conv2D)            (None, 8, 8, 256)         590080    \n",
            "_________________________________________________________________\n",
            "activation_6 (Activation)    (None, 8, 8, 256)         0         \n",
            "_________________________________________________________________\n",
            "max_pooling2d_2 (MaxPooling2 (None, 4, 4, 256)         0         \n",
            "_________________________________________________________________\n",
            "conv2d_7 (Conv2D)            (None, 4, 4, 256)         590080    \n",
            "_________________________________________________________________\n",
            "activation_7 (Activation)    (None, 4, 4, 256)         0         \n",
            "_________________________________________________________________\n",
            "conv2d_8 (Conv2D)            (None, 4, 4, 256)         590080    \n",
            "_________________________________________________________________\n",
            "activation_8 (Activation)    (None, 4, 4, 256)         0         \n",
            "_________________________________________________________________\n",
            "conv2d_9 (Conv2D)            (None, 4, 4, 256)         590080    \n",
            "_________________________________________________________________\n",
            "activation_9 (Activation)    (None, 4, 4, 256)         0         \n",
            "_________________________________________________________________\n",
            "max_pooling2d_3 (MaxPooling2 (None, 2, 2, 256)         0         \n",
            "_________________________________________________________________\n",
            "flatten (Flatten)            (None, 1024)              0         \n",
            "_________________________________________________________________\n",
            "dense (Dense)                (None, 4096)              4198400   \n",
            "_________________________________________________________________\n",
            "activation_10 (Activation)   (None, 4096)              0         \n",
            "_________________________________________________________________\n",
            "dropout (Dropout)            (None, 4096)              0         \n",
            "_________________________________________________________________\n",
            "dense_1 (Dense)              (None, 4096)              16781312  \n",
            "_________________________________________________________________\n",
            "activation_11 (Activation)   (None, 4096)              0         \n",
            "_________________________________________________________________\n",
            "dropout_1 (Dropout)          (None, 4096)              0         \n",
            "_________________________________________________________________\n",
            "dense_2 (Dense)              (None, 10)                40970     \n",
            "_________________________________________________________________\n",
            "activation_12 (Activation)   (None, 10)                0         \n",
            "=================================================================\n",
            "Total params: 24,526,410\n",
            "Trainable params: 24,526,410\n",
            "Non-trainable params: 0\n",
            "_________________________________________________________________\n"
          ]
        }
      ]
    },
    {
      "cell_type": "code",
      "metadata": {
        "id": "4ov-qlJM6YJO"
      },
      "source": [
        "model.compile(\n",
        "    optimizer=keras.optimizers.Adam(learning_rate=0.0001), \n",
        "    loss='sparse_categorical_crossentropy', \n",
        "    metrics=['accuracy']\n",
        ")"
      ],
      "execution_count": null,
      "outputs": []
    },
    {
      "cell_type": "code",
      "metadata": {
        "colab": {
          "base_uri": "https://localhost:8080/"
        },
        "id": "lUQuCYQG6jP4",
        "outputId": "1451b450-6a0f-4fdc-c1ec-fa7a8a24a361"
      },
      "source": [
        "cb = EarlyStopping(monitor='val_loss', min_delta=0.02, patience=3, restore_best_weights=True)\n",
        "\n",
        "h = model.fit(x=X_train_norm, y=Y_train, \n",
        "              epochs=10, \n",
        "              validation_split=0.2,\n",
        "              batch_size=128,\n",
        "              callbacks=[cb]\n",
        "             )"
      ],
      "execution_count": null,
      "outputs": [
        {
          "output_type": "stream",
          "name": "stdout",
          "text": [
            "Epoch 1/10\n",
            "313/313 [==============================] - 30s 96ms/step - loss: 1.9389 - accuracy: 0.2714 - val_loss: 1.7653 - val_accuracy: 0.3450\n",
            "Epoch 2/10\n",
            "313/313 [==============================] - 29s 93ms/step - loss: 1.5876 - accuracy: 0.4183 - val_loss: 1.4645 - val_accuracy: 0.4679\n",
            "Epoch 3/10\n",
            "313/313 [==============================] - 29s 93ms/step - loss: 1.3868 - accuracy: 0.4973 - val_loss: 1.4285 - val_accuracy: 0.4849\n",
            "Epoch 4/10\n",
            "313/313 [==============================] - 29s 93ms/step - loss: 1.2107 - accuracy: 0.5662 - val_loss: 1.2844 - val_accuracy: 0.5346\n",
            "Epoch 5/10\n",
            "313/313 [==============================] - 29s 93ms/step - loss: 1.0557 - accuracy: 0.6209 - val_loss: 1.1764 - val_accuracy: 0.5794\n",
            "Epoch 6/10\n",
            "313/313 [==============================] - 29s 93ms/step - loss: 0.8884 - accuracy: 0.6824 - val_loss: 1.2132 - val_accuracy: 0.5797\n",
            "Epoch 7/10\n",
            "313/313 [==============================] - 29s 93ms/step - loss: 0.7276 - accuracy: 0.7415 - val_loss: 1.2469 - val_accuracy: 0.5859\n",
            "Epoch 8/10\n",
            "313/313 [==============================] - 29s 93ms/step - loss: 0.5760 - accuracy: 0.7958 - val_loss: 1.3592 - val_accuracy: 0.5821\n"
          ]
        }
      ]
    },
    {
      "cell_type": "code",
      "metadata": {
        "colab": {
          "base_uri": "https://localhost:8080/",
          "height": 250
        },
        "id": "iFj9FV5i6tRG",
        "outputId": "98cf998b-8026-44d8-a0ed-e817bac5f6dd"
      },
      "source": [
        "plt.figure(figsize=(15,5))\n",
        "plt.subplot(1,2,1)\n",
        "plt.plot(h.history['accuracy'], '--', label='train accuracy')\n",
        "plt.plot(h.history['val_accuracy'], '--', label = 'validation accuracy')\n",
        "plt.xlabel('Epoch')\n",
        "plt.ylabel('Accuracy')\n",
        "plt.grid(True)\n",
        "plt.legend(loc='lower right')\n",
        "\n",
        "plt.subplot(1,2,2)\n",
        "plt.plot(h.history['loss'], '--', label='train loss')\n",
        "plt.plot(h.history['val_loss'], '--', label='validation loss')\n",
        "plt.xlabel('Epoch')\n",
        "plt.ylabel('Loss')\n",
        "plt.grid(True)\n",
        "plt.legend(loc='upper right')\n",
        "\n",
        "plt.show()"
      ],
      "execution_count": null,
      "outputs": [
        {
          "output_type": "display_data",
          "data": {
            "image/png": "[encoded data removed]",
            "text/plain": [
              "<Figure size 1080x360 with 2 Axes>"
            ]
          },
          "metadata": {
            "needs_background": "light"
          }
        }
      ]
    },
    {
      "cell_type": "code",
      "metadata": {
        "id": "sToSR4nl79Bl"
      },
      "source": [
        "model.save('./resources/data/my_vgg.h5')"
      ],
      "execution_count": null,
      "outputs": []
    },
    {
      "cell_type": "code",
      "metadata": {
        "id": "uYDPjseb8fKO"
      },
      "source": [
        "from tensorflow.keras.models import load_model"
      ],
      "execution_count": null,
      "outputs": []
    },
    {
      "cell_type": "code",
      "metadata": {
        "id": "Dt2ZWB3u8hct"
      },
      "source": [
        "\n",
        "vgg_model = load_model('./resources/data/my_vgg.h5')"
      ],
      "execution_count": null,
      "outputs": []
    },
    {
      "cell_type": "code",
      "metadata": {
        "colab": {
          "base_uri": "https://localhost:8080/"
        },
        "id": "lKH_dFCA8jzv",
        "outputId": "948ef452-1807-4c24-95c9-b4a17081b26d"
      },
      "source": [
        "vgg_model.summary()"
      ],
      "execution_count": null,
      "outputs": [
        {
          "output_type": "stream",
          "name": "stdout",
          "text": [
            "Model: \"sequential\"\n",
            "_________________________________________________________________\n",
            "Layer (type)                 Output Shape              Param #   \n",
            "=================================================================\n",
            "conv2d (Conv2D)              (None, 32, 32, 64)        1792      \n",
            "_________________________________________________________________\n",
            "activation (Activation)      (None, 32, 32, 64)        0         \n",
            "_________________________________________________________________\n",
            "conv2d_1 (Conv2D)            (None, 32, 32, 64)        36928     \n",
            "_________________________________________________________________\n",
            "activation_1 (Activation)    (None, 32, 32, 64)        0         \n",
            "_________________________________________________________________\n",
            "max_pooling2d (MaxPooling2D) (None, 16, 16, 64)        0         \n",
            "_________________________________________________________________\n",
            "conv2d_2 (Conv2D)            (None, 16, 16, 128)       73856     \n",
            "_________________________________________________________________\n",
            "activation_2 (Activation)    (None, 16, 16, 128)       0         \n",
            "_________________________________________________________________\n",
            "conv2d_3 (Conv2D)            (None, 16, 16, 128)       147584    \n",
            "_________________________________________________________________\n",
            "activation_3 (Activation)    (None, 16, 16, 128)       0         \n",
            "_________________________________________________________________\n",
            "max_pooling2d_1 (MaxPooling2 (None, 8, 8, 128)         0         \n",
            "_________________________________________________________________\n",
            "conv2d_4 (Conv2D)            (None, 8, 8, 256)         295168    \n",
            "_________________________________________________________________\n",
            "activation_4 (Activation)    (None, 8, 8, 256)         0         \n",
            "_________________________________________________________________\n",
            "conv2d_5 (Conv2D)            (None, 8, 8, 256)         590080    \n",
            "_________________________________________________________________\n",
            "activation_5 (Activation)    (None, 8, 8, 256)         0         \n",
            "_________________________________________________________________\n",
            "conv2d_6 (Conv2D)            (None, 8, 8, 256)         590080    \n",
            "_________________________________________________________________\n",
            "activation_6 (Activation)    (None, 8, 8, 256)         0         \n",
            "_________________________________________________________________\n",
            "max_pooling2d_2 (MaxPooling2 (None, 4, 4, 256)         0         \n",
            "_________________________________________________________________\n",
            "conv2d_7 (Conv2D)            (None, 4, 4, 256)         590080    \n",
            "_________________________________________________________________\n",
            "activation_7 (Activation)    (None, 4, 4, 256)         0         \n",
            "_________________________________________________________________\n",
            "conv2d_8 (Conv2D)            (None, 4, 4, 256)         590080    \n",
            "_________________________________________________________________\n",
            "activation_8 (Activation)    (None, 4, 4, 256)         0         \n",
            "_________________________________________________________________\n",
            "conv2d_9 (Conv2D)            (None, 4, 4, 256)         590080    \n",
            "_________________________________________________________________\n",
            "activation_9 (Activation)    (None, 4, 4, 256)         0         \n",
            "_________________________________________________________________\n",
            "max_pooling2d_3 (MaxPooling2 (None, 2, 2, 256)         0         \n",
            "_________________________________________________________________\n",
            "flatten (Flatten)            (None, 1024)              0         \n",
            "_________________________________________________________________\n",
            "dense (Dense)                (None, 4096)              4198400   \n",
            "_________________________________________________________________\n",
            "activation_10 (Activation)   (None, 4096)              0         \n",
            "_________________________________________________________________\n",
            "dropout (Dropout)            (None, 4096)              0         \n",
            "_________________________________________________________________\n",
            "dense_1 (Dense)              (None, 4096)              16781312  \n",
            "_________________________________________________________________\n",
            "activation_11 (Activation)   (None, 4096)              0         \n",
            "_________________________________________________________________\n",
            "dropout_1 (Dropout)          (None, 4096)              0         \n",
            "_________________________________________________________________\n",
            "dense_2 (Dense)              (None, 10)                40970     \n",
            "_________________________________________________________________\n",
            "activation_12 (Activation)   (None, 10)                0         \n",
            "=================================================================\n",
            "Total params: 24,526,410\n",
            "Trainable params: 24,526,410\n",
            "Non-trainable params: 0\n",
            "_________________________________________________________________\n"
          ]
        }
      ]
    },
    {
      "cell_type": "code",
      "metadata": {
        "id": "W4j4wWiC8os4",
        "colab": {
          "base_uri": "https://localhost:8080/"
        },
        "outputId": "3ef56ac5-2272-4c58-d713-f8d1b97a0243"
      },
      "source": [
        "\n",
        "test_loss, test_acc = vgg_model.evaluate(X_test_norm, Y_test)\n",
        "print('\\nTest Accuracy:', test_acc)\n",
        "print('\\nTest Loss:', test_loss)"
      ],
      "execution_count": null,
      "outputs": [
        {
          "output_type": "stream",
          "name": "stdout",
          "text": [
            "313/313 [==============================] - 4s 12ms/step - loss: 1.1831 - accuracy: 0.5788\n",
            "\n",
            "Test Accuracy: 0.5788000226020813\n",
            "\n",
            "Test Loss: 1.1831257343292236\n"
          ]
        }
      ]
    }
  ]
}